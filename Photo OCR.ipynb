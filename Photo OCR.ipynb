{
 "cells": [
  {
   "cell_type": "code",
   "execution_count": 17,
   "metadata": {},
   "outputs": [],
   "source": [
    "import cv2\n",
    "import pytesseract\n",
    "from PIL import Image"
   ]
  },
  {
   "cell_type": "code",
   "execution_count": 18,
   "metadata": {},
   "outputs": [],
   "source": [
    "# Get File Name from Command Line\n",
    "path =  'images.png'                #input(\"Enter the file path : \").strip()"
   ]
  },
  {
   "cell_type": "code",
   "execution_count": 21,
   "metadata": {},
   "outputs": [],
   "source": [
    "img = cv2.imread(path)"
   ]
  },
  {
   "cell_type": "code",
   "execution_count": 22,
   "metadata": {},
   "outputs": [],
   "source": [
    "# Converting to grayscale\n",
    "gray = cv2.cvtColor(img, cv2.COLOR_BGR2GRAY)"
   ]
  },
  {
   "cell_type": "code",
   "execution_count": 23,
   "metadata": {},
   "outputs": [
    {
     "name": "stdout",
     "output_type": "stream",
     "text": [
      "Do you want to pre-process the image ?\n",
      "Threshold : 1\n",
      "Grey : 2\n",
      "None : 0\n",
      "Enter your choice : 1\n"
     ]
    }
   ],
   "source": [
    "# Pre-processing our image according to our required format\n",
    "\n",
    "temp = input(\"Do you want to pre-process the image ?\\nThreshold : 1\\nGrey : 2\\nNone : 0\\nEnter your choice : \").strip()\n",
    "\n",
    "# If user enter 1, then Process Threshold or if user enters 2, then process medianBlur. Else, do nothing.\n",
    "\n",
    "if temp == \"1\":\n",
    "    gray = cv2.threshold(gray, 0, 255, cv2.THRESH_BINARY | cv2.THRESH_OTSU)[1]\n",
    "elif temp == \"2\":\n",
    "    gray = cv2.medianBlur(gray, 3)"
   ]
  },
  {
   "cell_type": "code",
   "execution_count": 24,
   "metadata": {},
   "outputs": [
    {
     "data": {
      "text/plain": [
       "True"
      ]
     },
     "execution_count": 24,
     "metadata": {},
     "output_type": "execute_result"
    }
   ],
   "source": [
    " # Saving the pre-processed temporary file as temp.png\n",
    "\n",
    "\n",
    "filename = \"{}.png\".format(\"temp\")\n",
    "cv2.imwrite(filename, gray)"
   ]
  },
  {
   "cell_type": "code",
   "execution_count": 25,
   "metadata": {},
   "outputs": [
    {
     "name": "stdout",
     "output_type": "stream",
     "text": [
      "iS)\n",
      "\n",
      "WhatsApp\n",
      "\f",
      "\n"
     ]
    }
   ],
   "source": [
    "#Applying OCR and printing the output string.\n",
    "\n",
    "text = pytesseract.image_to_string(Image.open(filename))\n",
    "print(text)"
   ]
  },
  {
   "cell_type": "code",
   "execution_count": null,
   "metadata": {},
   "outputs": [],
   "source": []
  }
 ],
 "metadata": {
  "kernelspec": {
   "display_name": "Python 3",
   "language": "python",
   "name": "python3"
  },
  "language_info": {
   "codemirror_mode": {
    "name": "ipython",
    "version": 3
   },
   "file_extension": ".py",
   "mimetype": "text/x-python",
   "name": "python",
   "nbconvert_exporter": "python",
   "pygments_lexer": "ipython3",
   "version": "3.7.3"
  }
 },
 "nbformat": 4,
 "nbformat_minor": 4
}
